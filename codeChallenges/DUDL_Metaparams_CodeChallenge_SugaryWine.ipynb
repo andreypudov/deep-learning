{
 "cells": [
  {
   "cell_type": "markdown",
   "metadata": {
    "id": "bhWV8oes-wKR"
   },
   "source": [
    "# COURSE: A deep understanding of deep learning\n",
    "## SECTION: Metaparameters (activation, batch, optimizers)\n",
    "### LECTURE: The \"wine quality\" dataset\n",
    "#### TEACHER: Mike X Cohen, sincxpress.com\n",
    "##### COURSE URL: udemy.com/course/deeplearning_x/?couponCode=202305"
   ]
  },
  {
   "cell_type": "code",
   "execution_count": null,
   "metadata": {
    "id": "7U3TmybM4yMw"
   },
   "outputs": [],
   "source": [
    "### import libraries\n",
    "\n",
    "# for DL modeling\n",
    "import torch\n",
    "import torch.nn as nn\n",
    "import torch.nn.functional as F\n",
    "from torch.utils.data import DataLoader,TensorDataset\n",
    "from sklearn.model_selection import train_test_split\n",
    "\n",
    "# for number-crunching\n",
    "import numpy as np\n",
    "import scipy.stats as stats\n",
    "\n",
    "# for dataset management\n",
    "import pandas as pd\n",
    "\n",
    "# for data visualization\n",
    "import matplotlib.pyplot as plt"
   ]
  },
  {
   "cell_type": "markdown",
   "metadata": {
    "id": "2anVFzBXGdwH"
   },
   "source": [
    "# Import and process the data"
   ]
  },
  {
   "cell_type": "code",
   "execution_count": null,
   "metadata": {
    "id": "0ohXIxzt4_U2"
   },
   "outputs": [],
   "source": [
    "url = \"https://archive.ics.uci.edu/ml/machine-learning-databases/wine-quality/winequality-red.csv\"\n",
    "\n",
    "data = pd.read_csv(url, sep = ';')\n",
    "data = data[data['total sulfur dioxide'] < 200] # drop a few outliers\n",
    "\n",
    "# z-score all columns except quality\n",
    "cols2zscore = data.keys()\n",
    "data[cols2zscore] = data[cols2zscore].apply(stats.zscore)\n",
    "cols2zscore"
   ]
  },
  {
   "cell_type": "markdown",
   "metadata": {
    "id": "vGQd7xmM5Gns"
   },
   "source": [
    "# Re-organize the data: train/test in DataLoaders"
   ]
  },
  {
   "cell_type": "code",
   "execution_count": null,
   "metadata": {},
   "outputs": [],
   "source": [
    "# convert from pandas dataframe to tensor\n",
    "\n",
    "# drop residual sugar\n",
    "cols2zscore = cols2zscore.drop('residual sugar')\n",
    "\n",
    "dataT = torch.tensor(data[cols2zscore].values).float()\n",
    "sugar = torch.tensor(data['residual sugar'].values).float()\n",
    "sugar = sugar[:, None]"
   ]
  },
  {
   "cell_type": "code",
   "execution_count": null,
   "metadata": {},
   "outputs": [],
   "source": [
    "# check values in sugar\n",
    "plt.plot(sugar, 's')\n",
    "plt.xlabel('Data observation')\n",
    "plt.ylabel('Sugar (norm.)')\n",
    "plt.show()"
   ]
  },
  {
   "cell_type": "code",
   "execution_count": null,
   "metadata": {
    "id": "bbf064xxGa_x"
   },
   "outputs": [],
   "source": [
    "# use scikitlearn to split the data\n",
    "train_data, test_data, train_labels, test_labels = train_test_split(dataT, sugar, test_size = 0.1)\n",
    "\n",
    "# then convert them into PyTorch Datasets (note: already converted to tensors)\n",
    "train_dataset = torch.utils.data.TensorDataset(train_data, train_labels)\n",
    "test_dataset  = torch.utils.data.TensorDataset(test_data, test_labels)\n",
    "\n",
    "# finally, translate into dataloader objects\n",
    "batchsize = 32\n",
    "train_loader = DataLoader(train_dataset, batch_size = batchsize, shuffle = True, drop_last = True)\n",
    "test_loader  = DataLoader(test_dataset, batch_size = test_dataset.tensors[0].shape[0])\n"
   ]
  },
  {
   "cell_type": "markdown",
   "metadata": {},
   "source": [
    "# Construct the model and training plans"
   ]
  },
  {
   "cell_type": "code",
   "execution_count": null,
   "metadata": {
    "id": "_7mAB4utDMeh"
   },
   "outputs": [],
   "source": [
    "# a function that creates the ANN model\n",
    "class ANNWine(nn.Module):\n",
    "  def __init__(self):\n",
    "    super().__init__()\n",
    "\n",
    "    self.input = nn.Linear(11, 16)\n",
    "\n",
    "    self.fc1 = nn.Linear(16, 32)\n",
    "    self.fc2 = nn.Linear(32, 32)\n",
    "\n",
    "    self.output = nn.Linear(32, 1)\n",
    "\n",
    "  def forward(self, x):\n",
    "    x = F.relu(self.input(x))\n",
    "    x = F.relu(self.fc1(x))\n",
    "    x = F.relu(self.fc2(x))\n",
    "    return self.output(x)\n"
   ]
  },
  {
   "cell_type": "code",
   "execution_count": null,
   "metadata": {},
   "outputs": [],
   "source": [
    "# train the model\n",
    "\n",
    "# global parameter\n",
    "numepochs = 1000\n",
    "\n",
    "def trainTheModel():\n",
    "\n",
    "  lossfun = nn.MSELoss()\n",
    "  optimizer = torch.optim.SGD(winenet.parameters(), lr = 0.01)\n",
    "\n",
    "  # initialize accuracies as empties\n",
    "  trainLoss = torch.zeros(numepochs)\n",
    "  testLoss  = torch.zeros(numepochs)\n",
    "\n",
    "  # loop over epochs\n",
    "  for epochi in range(numepochs):\n",
    "\n",
    "    winenet.train()\n",
    "\n",
    "    # loop over training data batches\n",
    "    batchLoss = []\n",
    "    for X, y in train_loader:\n",
    "\n",
    "      # forward pass and loss\n",
    "      yHat = winenet(X)\n",
    "      loss = lossfun(yHat, y)\n",
    "\n",
    "      # backprop\n",
    "      optimizer.zero_grad()\n",
    "      loss.backward()\n",
    "      optimizer.step()\n",
    "\n",
    "      # compute training accuracy just for this batch\n",
    "      batchLoss.append(loss.item())\n",
    "    # end of batch loop...\n",
    "\n",
    "    trainLoss[epochi] = np.mean(batchLoss)\n",
    "\n",
    "    # test accuracy\n",
    "    winenet.eval()\n",
    "    X, y = next(iter(test_loader)) # extract X,y from test dataloader\n",
    "\n",
    "    with torch.no_grad():\n",
    "      yHat = winenet(X)\n",
    "\n",
    "    testLoss[epochi] = lossfun(yHat, y).item()\n",
    "\n",
    "  # function output\n",
    "  return trainLoss, testLoss"
   ]
  },
  {
   "cell_type": "markdown",
   "metadata": {},
   "source": [
    "# Test it out"
   ]
  },
  {
   "cell_type": "code",
   "execution_count": null,
   "metadata": {},
   "outputs": [],
   "source": [
    "winenet = ANNWine()\n",
    "trainLoss, testLoss = trainTheModel()"
   ]
  },
  {
   "cell_type": "code",
   "execution_count": null,
   "metadata": {},
   "outputs": [],
   "source": [
    "# plot the results\n",
    "fig, ax = plt.subplots(1, 2, figsize = (18, 6))\n",
    "\n",
    "ax[0].plot(trainLoss, label = 'Train accuracy')\n",
    "ax[0].plot(testLoss, label = 'Test accuracy')\n",
    "ax[0].set_title('Train/Test loss')\n",
    "ax[0].set_xlabel('Epochs')\n",
    "ax[0].set_ylabel('Loss')\n",
    "ax[0].legend()\n",
    "ax[0].grid()\n",
    "\n",
    "# show predictions and real values\n",
    "yHatTrain = winenet(train_data)\n",
    "yHatTest  = winenet(test_data)\n",
    "\n",
    "ax[1].plot(yHatTrain.detach(), train_labels, 'ro')\n",
    "ax[1].plot(yHatTest.detach(), test_labels, 'b^')\n",
    "ax[1].set_xlabel('Model-predicted sugar')\n",
    "ax[1].set_ylabel('Actual sugar')\n",
    "ax[1].set_title('Model predictions vs. actual values')\n",
    "\n",
    "# correlations between predicted and actual values\n",
    "corrTrain = np.corrcoef(yHatTrain.detach().T, train_labels.T)[1, 0]\n",
    "corrTest = np.corrcoef(yHatTest.detach().T, test_labels.T)[1, 0]\n",
    "ax[1].legend([f'Train r={corrTrain:.3f}', f'Test r={corrTest:.3f}'])\n",
    "\n",
    "plt.show()"
   ]
  },
  {
   "cell_type": "code",
   "execution_count": null,
   "metadata": {},
   "outputs": [],
   "source": [
    "# Inspect the correlation matrix\n",
    "fig = plt.figure(figsize=(8,8))\n",
    "\n",
    "plt.imshow(np.corrcoef(data.T),vmin=-.3,vmax=.3)\n",
    "plt.xticks(range(len(data.keys())),labels=data.keys(),rotation=90)\n",
    "plt.yticks(range(len(data.keys())),labels=data.keys())\n",
    "plt.colorbar()\n",
    "plt.title('Data correlation matrix')\n",
    "plt.show()"
   ]
  }
 ],
 "metadata": {
  "colab": {
   "authorship_tag": "ABX9TyOfW5ain++1pjONausbDbZ8",
   "collapsed_sections": [],
   "name": "DUDL_metaparams_intro2winedata.ipynb",
   "provenance": [
    {
     "file_id": "1ZD_ADbh6qrlHE16V7Yc8VF9Vrn2c6bMQ",
     "timestamp": 1617045038208
    }
   ]
  },
  "kernelspec": {
   "display_name": "Python 3",
   "name": "python3"
  },
  "language_info": {
   "codemirror_mode": {
    "name": "ipython",
    "version": 3
   },
   "file_extension": ".py",
   "mimetype": "text/x-python",
   "name": "python",
   "nbconvert_exporter": "python",
   "pygments_lexer": "ipython3",
   "version": "3.11.5"
  }
 },
 "nbformat": 4,
 "nbformat_minor": 0
}
