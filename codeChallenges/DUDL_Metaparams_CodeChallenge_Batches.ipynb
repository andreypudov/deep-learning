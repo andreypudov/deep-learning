{
 "cells": [
  {
   "cell_type": "markdown",
   "metadata": {
    "id": "bhWV8oes-wKR"
   },
   "source": [
    "# COURSE: A deep understanding of deep learning\n",
    "## SECTION: Metaparameters (activation, batch, optimizers)\n",
    "### LECTURE: The \"wine quality\" dataset\n",
    "#### TEACHER: Mike X Cohen, sincxpress.com\n",
    "##### COURSE URL: udemy.com/course/deeplearning_x/?couponCode=202305"
   ]
  },
  {
   "cell_type": "code",
   "execution_count": null,
   "metadata": {
    "id": "7U3TmybM4yMw"
   },
   "outputs": [],
   "source": [
    "### import libraries\n",
    "\n",
    "# for DL modeling\n",
    "import torch\n",
    "import torch.nn as nn\n",
    "from torch.utils.data import DataLoader,TensorDataset\n",
    "from sklearn.model_selection import train_test_split\n",
    "\n",
    "# for number-crunching\n",
    "import numpy as np\n",
    "import scipy.stats as stats\n",
    "\n",
    "# for dataset management\n",
    "import pandas as pd\n",
    "\n",
    "# for data visualization\n",
    "import matplotlib.pyplot as plt\n",
    "import seaborn as sns\n",
    "\n",
    "import time"
   ]
  },
  {
   "cell_type": "markdown",
   "metadata": {
    "id": "2anVFzBXGdwH"
   },
   "source": [
    "# Import and process the data"
   ]
  },
  {
   "cell_type": "code",
   "execution_count": null,
   "metadata": {
    "id": "0ohXIxzt4_U2"
   },
   "outputs": [],
   "source": [
    "url = \"https://archive.ics.uci.edu/ml/machine-learning-databases/wine-quality/winequality-red.csv\"\n",
    "\n",
    "data = pd.read_csv(url, sep = ';')\n",
    "data = data[data['total sulfur dioxide'] < 200] # drop a few outliers\n",
    "\n",
    "# z-score all columns except quality\n",
    "cols2zscore = data.keys()\n",
    "cols2zscore = cols2zscore.drop('quality')\n",
    "data[cols2zscore] = data[cols2zscore].apply(stats.zscore)\n",
    "\n",
    "# create a new column for binarized (boolean) quality\n",
    "data['boolQuality'] = 0\n",
    "# data['boolQuality'][data['quality']<6] = 0 # implicit in the code! just here for clarity\n",
    "data['boolQuality'][data['quality'] > 5] = 1\n",
    "\n",
    "data[['quality','boolQuality']]"
   ]
  },
  {
   "cell_type": "markdown",
   "metadata": {
    "id": "vGQd7xmM5Gns"
   },
   "source": [
    "# Re-organize the data: train/test in DataLoaders"
   ]
  },
  {
   "cell_type": "code",
   "execution_count": null,
   "metadata": {
    "id": "2kZ6YPe8Gav5"
   },
   "outputs": [],
   "source": [
    "# convert from pandas dataframe to tensor\n",
    "dataT  = torch.tensor( data[cols2zscore].values ).float()\n",
    "labels = torch.tensor( data['boolQuality'].values ).float()\n",
    "labels = labels[:,None]"
   ]
  },
  {
   "cell_type": "code",
   "execution_count": null,
   "metadata": {
    "id": "bbf064xxGa_x"
   },
   "outputs": [],
   "source": [
    "# use scikitlearn to split the data\n",
    "train_data, test_data, train_labels, test_labels = train_test_split(dataT, labels, test_size = 0.1)\n",
    "\n",
    "# then convert them into PyTorch Datasets (note: already converted to tensors)\n",
    "train_data = TensorDataset(train_data, train_labels)\n",
    "test_data  = TensorDataset(test_data, test_labels)\n",
    "\n",
    "# finally, translate into dataloader objects\n",
    "def createData(batchsize = 1):\n",
    "   train_loader = DataLoader(train_data, batch_size = batchsize, shuffle = True, drop_last = True)\n",
    "   test_loader  = DataLoader(test_data, batch_size = test_data.tensors[0].shape[0])\n",
    "\n",
    "   return train_loader, test_loader"
   ]
  },
  {
   "cell_type": "markdown",
   "metadata": {},
   "source": [
    "# Construct the model and training plans"
   ]
  },
  {
   "cell_type": "code",
   "execution_count": null,
   "metadata": {
    "id": "_7mAB4utDMeh"
   },
   "outputs": [],
   "source": [
    "# a function that creates the ANN model\n",
    "def createANewModel():\n",
    "\n",
    "  # model architecture\n",
    "  ANNWine = nn.Sequential(\n",
    "      nn.Linear(11, 64),   # input layer\n",
    "      nn.ReLU(),         # activation unit\n",
    "      nn.Linear(64, 64),  # hidden layer\n",
    "      nn.ReLU(),         # activation unit\n",
    "      nn.Linear(64, 1),   # output units\n",
    "      nn.Sigmoid()       # final activation unit\n",
    "        )\n",
    "\n",
    "  # loss function\n",
    "  lossfun = nn.BCELoss()\n",
    "\n",
    "  # optimizer\n",
    "  optimizer = torch.optim.SGD(ANNWine.parameters(), lr = 0.001)\n",
    "\n",
    "  return ANNWine, lossfun, optimizer"
   ]
  },
  {
   "cell_type": "code",
   "execution_count": null,
   "metadata": {},
   "outputs": [],
   "source": [
    "# train the model\n",
    "\n",
    "# global parameter\n",
    "numepochs = 1000\n",
    "\n",
    "def trainTheModel(ANNWine, train_loader, test_loader):\n",
    "\n",
    "  # initialize accuracies as empties\n",
    "  trainAcc   = []\n",
    "  testAcc    = []\n",
    "  losses     = []\n",
    "  start_time = time.process_time()\n",
    "\n",
    "  # loop over epochs\n",
    "  for epochi in range(numepochs):\n",
    "\n",
    "    # ANNiris.train()\n",
    "\n",
    "    # loop over training data batches\n",
    "    batchAcc  = []\n",
    "    batchLoss = []\n",
    "    for X, y in train_loader:\n",
    "\n",
    "      # forward pass and loss\n",
    "      yHat = ANNWine(X)\n",
    "      loss = lossfun(yHat, y)\n",
    "\n",
    "      # backprop\n",
    "      optimizer.zero_grad()\n",
    "      loss.backward()\n",
    "      optimizer.step()\n",
    "\n",
    "      # compute training accuracy just for this batch\n",
    "      batchAcc.append(100 * torch.mean(((yHat > 0.5) == y).float()))\n",
    "      batchLoss.append(loss.item())\n",
    "    # end of batch loop...\n",
    "\n",
    "    # now that we've trained through the batches, get their average training accuracy\n",
    "    trainAcc.append(np.mean(batchAcc))\n",
    "    losses.append(np.mean(batchLoss))\n",
    "\n",
    "    # test accuracy\n",
    "    X, y = next(iter(test_loader)) # extract X,y from test dataloader\n",
    "\n",
    "    # ANNiris.eval()\n",
    "    with torch.no_grad():\n",
    "      predlabels = ANNWine(X) > .5\n",
    "\n",
    "    testAcc.append(100 * torch.mean((predlabels == y).float()))\n",
    "\n",
    "  # function output\n",
    "  return trainAcc, testAcc, losses, (time.process_time() - start_time)"
   ]
  },
  {
   "cell_type": "markdown",
   "metadata": {},
   "source": [
    "# Test it out"
   ]
  },
  {
   "cell_type": "code",
   "execution_count": null,
   "metadata": {},
   "outputs": [],
   "source": [
    "batch_sizes = [2**n for n in range(1, 10, 2)]\n",
    "all_accuracies_train = np.zeros((numepochs, len(batch_sizes)))\n",
    "all_accuracies_test = np.zeros((numepochs, len(batch_sizes)))\n",
    "all_computational_time = np.zeros((len(batch_sizes)))\n",
    "\n",
    "for index, batchsize in enumerate(batch_sizes):\n",
    "   # create data\n",
    "   train_loader, test_loader = createData(batchsize)\n",
    "\n",
    "   # create a model\n",
    "   ANNWine, lossfun, optimizer = createANewModel()\n",
    "\n",
    "   # train the model\n",
    "   trainAcc, testAcc, losses, computational_time = trainTheModel(ANNWine, train_loader, test_loader)\n",
    "\n",
    "   all_accuracies_train[:, index] = trainAcc\n",
    "   all_accuracies_test[:, index] = testAcc\n",
    "   all_computational_time[index] = computational_time"
   ]
  },
  {
   "cell_type": "code",
   "execution_count": null,
   "metadata": {},
   "outputs": [],
   "source": [
    "# plot the results\n",
    "fig, ax = plt.subplots(1, 2, figsize = (18, 6))\n",
    "\n",
    "ax[0].plot(all_accuracies_train)\n",
    "ax[0].set_title('Train accuracy')\n",
    "\n",
    "ax[1].plot(all_accuracies_test)\n",
    "ax[1].set_title('Test accuracy')\n",
    "\n",
    "for i in range(2):\n",
    "    ax[i].set_xlabel('Epochs')\n",
    "    ax[i].set_ylabel('Accuracy (%)')\n",
    "    ax[i].set_ylim([30, 100])\n",
    "    ax[i].legend(batch_sizes)\n",
    "    ax[i].grid()\n",
    "\n",
    "plt.show()\n",
    "\n",
    "plt.bar(range(len(all_computational_time)), all_computational_time, tick_label = batch_sizes)\n",
    "plt.xlabel('Mini-batch size')\n",
    "plt.ylabel('Computational time (s)')\n",
    "\n",
    "plt.show()"
   ]
  }
 ],
 "metadata": {
  "colab": {
   "authorship_tag": "ABX9TyOfW5ain++1pjONausbDbZ8",
   "collapsed_sections": [],
   "name": "DUDL_metaparams_intro2winedata.ipynb",
   "provenance": [
    {
     "file_id": "1ZD_ADbh6qrlHE16V7Yc8VF9Vrn2c6bMQ",
     "timestamp": 1617045038208
    }
   ]
  },
  "kernelspec": {
   "display_name": "Python 3",
   "name": "python3"
  },
  "language_info": {
   "codemirror_mode": {
    "name": "ipython",
    "version": 3
   },
   "file_extension": ".py",
   "mimetype": "text/x-python",
   "name": "python",
   "nbconvert_exporter": "python",
   "pygments_lexer": "ipython3",
   "version": "3.11.4"
  }
 },
 "nbformat": 4,
 "nbformat_minor": 0
}
